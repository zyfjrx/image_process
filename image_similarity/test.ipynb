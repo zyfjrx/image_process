{
 "cells": [
  {
   "cell_type": "code",
   "id": "initial_id",
   "metadata": {
    "collapsed": true,
    "ExecuteTime": {
     "end_time": "2025-06-19T02:35:50.691639Z",
     "start_time": "2025-06-19T02:35:50.017471Z"
    }
   },
   "source": [
    "import torch\n",
    "import numpy as np"
   ],
   "outputs": [],
   "execution_count": 1
  },
  {
   "metadata": {
    "ExecuteTime": {
     "end_time": "2025-06-19T02:36:08.876354Z",
     "start_time": "2025-06-19T02:36:08.872652Z"
    }
   },
   "cell_type": "code",
   "source": [
    "embeddings = torch.empty(0)\n",
    "embeddings.shape"
   ],
   "id": "40fdca991db3b627",
   "outputs": [
    {
     "data": {
      "text/plain": [
       "torch.Size([0])"
      ]
     },
     "execution_count": 3,
     "metadata": {},
     "output_type": "execute_result"
    }
   ],
   "execution_count": 3
  },
  {
   "metadata": {
    "ExecuteTime": {
     "end_time": "2025-06-19T02:37:01.834143Z",
     "start_time": "2025-06-19T02:37:01.829903Z"
    }
   },
   "cell_type": "code",
   "source": [
    "x = torch.randn(32, 256, 2, 2)\n",
    "embeddings = torch.cat((embeddings, x), dim=0)\n",
    "embeddings.shape"
   ],
   "id": "ea46788a9c0e27b5",
   "outputs": [
    {
     "data": {
      "text/plain": [
       "torch.Size([32, 256, 2, 2])"
      ]
     },
     "execution_count": 4,
     "metadata": {},
     "output_type": "execute_result"
    }
   ],
   "execution_count": 4
  },
  {
   "metadata": {
    "ExecuteTime": {
     "end_time": "2025-06-19T03:19:23.820909Z",
     "start_time": "2025-06-19T03:19:23.816918Z"
    }
   },
   "cell_type": "code",
   "source": [
    "y = torch.randn(32, 256, 2, 2)\n",
    "embeddings = torch.cat((embeddings, y), dim=0)\n",
    "embeddings.shape"
   ],
   "id": "b4ab5010931c0d16",
   "outputs": [
    {
     "data": {
      "text/plain": [
       "torch.Size([127, 256, 2, 2])"
      ]
     },
     "execution_count": 9,
     "metadata": {},
     "output_type": "execute_result"
    }
   ],
   "execution_count": 9
  },
  {
   "metadata": {
    "ExecuteTime": {
     "end_time": "2025-06-19T03:19:35.442335Z",
     "start_time": "2025-06-19T03:19:35.439791Z"
    }
   },
   "cell_type": "code",
   "source": [
    "c = torch.cat([x,y],dim=0)\n",
    "c.shape"
   ],
   "id": "58a1daab5fda4d5a",
   "outputs": [
    {
     "data": {
      "text/plain": [
       "torch.Size([64, 256, 2, 2])"
      ]
     },
     "execution_count": 11,
     "metadata": {},
     "output_type": "execute_result"
    }
   ],
   "execution_count": 11
  }
 ],
 "metadata": {
  "kernelspec": {
   "display_name": "Python 3",
   "language": "python",
   "name": "python3"
  },
  "language_info": {
   "codemirror_mode": {
    "name": "ipython",
    "version": 2
   },
   "file_extension": ".py",
   "mimetype": "text/x-python",
   "name": "python",
   "nbconvert_exporter": "python",
   "pygments_lexer": "ipython2",
   "version": "2.7.6"
  }
 },
 "nbformat": 4,
 "nbformat_minor": 5
}
